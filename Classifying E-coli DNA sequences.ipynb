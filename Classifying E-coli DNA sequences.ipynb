{
 "cells": [
  {
   "cell_type": "markdown",
   "metadata": {},
   "source": [
    "Classifying DNA Sequences\n",
    "Presented by Eduonix\n",
    "We will explore the world of bioinformatics by using Markov models, K-nearest neighbor (KNN) algorithms, support vector machines, and other common classifiers to classify short E. Coli DNA sequences. This project will use a dataset from the UCI Machine Learning Repository that has 106 DNA sequences, with 57 sequential nucleotides (“base-pairs”) each."
   ]
  },
  {
   "cell_type": "code",
   "execution_count": 25,
   "metadata": {},
   "outputs": [],
   "source": [
    "import os\n",
    "import sys\n",
    "import numpy as np\n",
    "import pandas as pd"
   ]
  },
  {
   "cell_type": "markdown",
   "metadata": {},
   "source": [
    "Step 1: Read and explore the dataset"
   ]
  },
  {
   "cell_type": "code",
   "execution_count": 26,
   "metadata": {},
   "outputs": [
    {
     "name": "stdout",
     "output_type": "stream",
     "text": [
      "Class                                                       +\n",
      "id                                                       AMPC\n",
      "Sequence    \\t\\ttgctatcctgacagttgtcacgctgattggtgtcgttacaat...\n",
      "Name: 1, dtype: object\n",
      "\n",
      "\n",
      "  Class         id                                           Sequence\n",
      "0     +        S10  \\t\\ttactagcaatacgcttgcgttcggtggttaagtatgtataat...\n",
      "1     +       AMPC  \\t\\ttgctatcctgacagttgtcacgctgattggtgtcgttacaat...\n",
      "2     +       AROH  \\t\\tgtactagagaactagtgcattagcttatttttttgttatcat...\n",
      "3     +      DEOP2  \\taattgtgatgtgtatcgaagtgtgttgcggagtagatgttagaa...\n",
      "4     +  LEU1_TRNA  \\ttcgataattaactattgacgaaaagctgaaaaccactagaatgc...\n"
     ]
    }
   ],
   "source": [
    "#Read and explore the data\n",
    "fName = 'promoters.data'\n",
    "names = ['Class', 'id', 'Sequence']\n",
    "data = pd.read_csv(fName, names = names)\n",
    "print(data.iloc[1])\n",
    "print(\"\\n\")\n",
    "print(data.head(5))"
   ]
  },
  {
   "cell_type": "markdown",
   "metadata": {},
   "source": [
    "Step 2: Preprocess the dataset"
   ]
  },
  {
   "cell_type": "code",
   "execution_count": 27,
   "metadata": {},
   "outputs": [
    {
     "name": "stdout",
     "output_type": "stream",
     "text": [
      "106\n",
      "\t\ttgctatcctgacagttgtcacgctgattggtgtcgttacaatctaacgcatcgccaa\n",
      "['t', 'a', 'c', 't', 'a', 'g', 'c', 'a', 'a', 't', 'a', 'c', 'g', 'c', 't', 't', 'g', 'c', 'g', 't', 't', 'c', 'g', 'g', 't', 'g', 'g', 't', 't', 'a', 'a', 'g', 't', 'a', 't', 'g', 't', 'a', 't', 'a', 'a', 't', 'g', 'c', 'g', 'c', 'g', 'g', 'g', 'c', 't', 't', 'g', 't', 'c', 'g', 't', '+']\n",
      "\n",
      "\n",
      "58\n",
      "<class 'pandas.core.frame.DataFrame'>\n",
      "RangeIndex: 58 entries, 0 to 57\n",
      "Columns: 106 entries, 0 to 105\n",
      "dtypes: object(106)\n",
      "memory usage: 48.1+ KB\n",
      "None\n",
      "  0   1   2   3   4   5   6   7   8   9   ... 96  97  98  99  100 101 102 103  \\\n",
      "0   t   t   g   a   t   a   c   t   c   t ...   c   c   t   a   g   c   g   c   \n",
      "1   a   g   t   a   c   g   a   t   g   t ...   c   g   a   g   a   c   t   g   \n",
      "2   c   c   a   t   g   g   g   t   a   t ...   g   c   t   a   g   t   a   c   \n",
      "3   t   t   c   t   a   g   g   c   c   t ...   a   t   g   g   a   c   t   g   \n",
      "4   a   a   t   g   t   g   g   t   t   a ...   g   a   a   g   g   a   t   a   \n",
      "\n",
      "  104 105  \n",
      "0   c   t  \n",
      "1   t   a  \n",
      "2   c   a  \n",
      "3   g   c  \n",
      "4   t   a  \n",
      "\n",
      "[5 rows x 106 columns]\n"
     ]
    }
   ],
   "source": [
    "#Build the dataset by creating custom dataframes\n",
    "classes = data.loc[:,'Class']\n",
    "sequences = list(data.loc[:,'Sequence'])\n",
    "print(len(sequences))\n",
    "print(sequences[1])\n",
    "dataset = {}\n",
    "#Loop through sequences and split into individual nucleotides\n",
    "for i,seq in enumerate(sequences):\n",
    "     nucleotides = list(seq)\n",
    "     nucleotides = [x for x in nucleotides if x != '\\t']\n",
    "     nucleotides.append(classes[i])\n",
    "     dataset[i] = nucleotides\n",
    "print(dataset[0])\n",
    "print(\"\\n\")\n",
    "print(len(dataset[0]))\n",
    "#Turn the dataset into a dataframe\n",
    "data = pd.DataFrame(dataset)\n",
    "print(data.info())\n",
    "print(data.head(5))"
   ]
  },
  {
   "cell_type": "code",
   "execution_count": 28,
   "metadata": {},
   "outputs": [
    {
     "name": "stdout",
     "output_type": "stream",
     "text": [
      "   0  1  2  3  4  5  6  7  8  9  ...  48 49 50 51 52 53 54 55 56 Class\n",
      "0  t  a  c  t  a  g  c  a  a  t  ...   g  c  t  t  g  t  c  g  t     +\n",
      "1  t  g  c  t  a  t  c  c  t  g  ...   c  a  t  c  g  c  c  a  a     +\n",
      "2  g  t  a  c  t  a  g  a  g  a  ...   c  a  c  c  c  g  g  c  g     +\n",
      "3  a  a  t  t  g  t  g  a  t  g  ...   a  a  c  a  a  a  c  t  c     +\n",
      "4  t  c  g  a  t  a  a  t  t  a  ...   c  c  g  t  g  g  t  a  g     +\n",
      "\n",
      "[5 rows x 58 columns]\n"
     ]
    }
   ],
   "source": [
    "#Transpose the dataframe and rename the columns\n",
    "data = data.transpose()\n",
    "data.rename(columns = {57: 'Class'}, inplace = True) \n",
    "print(data.head(5))"
   ]
  },
  {
   "cell_type": "code",
   "execution_count": 29,
   "metadata": {},
   "outputs": [
    {
     "data": {
      "text/plain": [
       "'\\nseries = []\\nfor name in data.columns:\\n    series.append(data[name].value_counts())\\n    \\ninfo = pd.DataFrame(series)\\ndetails = info.transpose()\\nprint(details)\\n'"
      ]
     },
     "execution_count": 29,
     "metadata": {},
     "output_type": "execute_result"
    }
   ],
   "source": [
    "#Run this if you want to record the value counts for each sequence\n",
    "\"\"\"\n",
    "series = []\n",
    "for name in data.columns:\n",
    "    series.append(data[name].value_counts())\n",
    "    \n",
    "info = pd.DataFrame(series)\n",
    "details = info.transpose()\n",
    "print(details)\n",
    "\"\"\""
   ]
  },
  {
   "cell_type": "code",
   "execution_count": 30,
   "metadata": {},
   "outputs": [
    {
     "name": "stdout",
     "output_type": "stream",
     "text": [
      "<class 'pandas.core.frame.DataFrame'>\n",
      "Int64Index: 106 entries, 0 to 105\n",
      "Columns: 229 entries, 0_a to Class\n",
      "dtypes: uint8(229)\n",
      "memory usage: 24.5 KB\n",
      "None\n",
      "\n",
      "\n",
      "   0_a  0_c  0_g  0_t  1_a  1_c  1_g  1_t  2_a  2_c  ...    54_t  55_a  55_c  \\\n",
      "0    0    0    0    1    1    0    0    0    0    1  ...       0     0     0   \n",
      "1    0    0    0    1    0    0    1    0    0    1  ...       0     1     0   \n",
      "2    0    0    1    0    0    0    0    1    1    0  ...       0     0     1   \n",
      "3    1    0    0    0    1    0    0    0    0    0  ...       0     0     0   \n",
      "4    0    0    0    1    0    1    0    0    0    0  ...       1     1     0   \n",
      "\n",
      "   55_g  55_t  56_a  56_c  56_g  56_t  Class  \n",
      "0     1     0     0     0     0     1      1  \n",
      "1     0     0     1     0     0     0      1  \n",
      "2     0     0     0     0     1     0      1  \n",
      "3     0     1     0     1     0     0      1  \n",
      "4     0     0     0     0     1     0      1  \n",
      "\n",
      "[5 rows x 229 columns]\n"
     ]
    }
   ],
   "source": [
    "#We need to convert the string sequences to one-hot encoding format\n",
    "data = pd.get_dummies(data)\n",
    "#print(DF.info())\n",
    "#print(DF.head(n = 5))\n",
    "data.drop(columns = ['Class_-'],inplace = True)\n",
    "data.rename(columns = {'Class_+':'Class'},inplace = True)\n",
    "print(data.info())\n",
    "print(\"\\n\")\n",
    "print(data.head(n = 5))"
   ]
  },
  {
   "cell_type": "code",
   "execution_count": 32,
   "metadata": {},
   "outputs": [],
   "source": [
    "#Prepare the data for training and testing\n",
    "from sklearn.model_selection import train_test_split\n",
    "X = np.array(data.drop(['Class'],1))\n",
    "Y = np.array(data['Class'])\n",
    "#Define the seed for reproducibility\n",
    "seed = 42\n",
    "X_train,X_test,Y_train,Y_test = train_test_split(X,Y,test_size=0.25,random_state=seed)"
   ]
  },
  {
   "cell_type": "markdown",
   "metadata": {},
   "source": [
    "Step 3: Training and Testing the Classification Algorithms\n",
    "Now that we have preprocessed the data and built our training and testing datasets, we can start to deploy different classification algorithms. It's relatively easy to test multiple models; as a result, we will compare and contrast the performance of ten different algorithms."
   ]
  },
  {
   "cell_type": "code",
   "execution_count": 33,
   "metadata": {},
   "outputs": [],
   "source": [
    "#Choose a few models\n",
    "from sklearn.naive_bayes import GaussianNB\n",
    "from sklearn.tree import DecisionTreeClassifier\n",
    "from sklearn.ensemble import RandomForestClassifier\n",
    "from sklearn.neighbors import KNeighborsClassifier\n",
    "from sklearn.linear_model import LogisticRegression\n",
    "from sklearn.ensemble import GradientBoostingClassifier\n",
    "from sklearn.svm import LinearSVC\n",
    "from sklearn.metrics import fbeta_score,accuracy_score\n",
    "gnb = GaussianNB()\n",
    "dt = DecisionTreeClassifier(random_state=0)\n",
    "rfc = RandomForestClassifier(random_state=42, n_jobs=2)\n",
    "knn = KNeighborsClassifier(n_jobs=2)\n",
    "lreg = LogisticRegression(random_state=42)\n",
    "lsvc = LinearSVC(random_state=42)\n",
    "gdb = GradientBoostingClassifier(random_state=42)\n",
    "classifiersList = [gnb,dt,rfc,knn,lsvc,lreg,gdb]\n",
    "classifiersScores = []\n",
    "classifiersTrainTimes = []"
   ]
  },
  {
   "cell_type": "code",
   "execution_count": 36,
   "metadata": {},
   "outputs": [
    {
     "name": "stdout",
     "output_type": "stream",
     "text": [
      "{0, 1}\n",
      "GaussianNB trained on 79 samples.\n",
      "DecisionTreeClassifier trained on 79 samples.\n",
      "RandomForestClassifier trained on 79 samples.\n",
      "KNeighborsClassifier trained on 79 samples.\n",
      "LinearSVC trained on 79 samples.\n",
      "LogisticRegression trained on 79 samples.\n",
      "GradientBoostingClassifier trained on 79 samples.\n",
      "[0.9701492537313434, 0.7368421052631579, 0.9493670886075949, 0.7142857142857143, 0.8241758241758242, 0.8620689655172415, 0.7281553398058251]\n",
      "[0.07536697387695312, 0.07275986671447754, 0.47166872024536133, 0.05455493927001953, 0.002510547637939453, 0.04543256759643555, 0.24422264099121094]\n",
      "[0.9259259259259259, 0.7407407407407407, 0.9629629629629629, 0.7037037037037037, 0.8518518518518519, 0.8888888888888888, 0.7407407407407407]\n",
      "['GaussianNB', 'DecisionTree', 'RandomForest', 'KNeighbors', 'LinearSVC', 'LogisticRegression', 'GradientBoosting']\n"
     ]
    }
   ],
   "source": [
    "#Train the models\n",
    "from time import time\n",
    "print(set(Y_train))\n",
    "def trainPredict(model,sampleSize,x_train,y_train,x_test,y_test):\n",
    "    '''\n",
    "    model: The algorithm\n",
    "    sampleSize: The size of samples to draw from\n",
    "    x_train: Training dataset\n",
    "    y_train: Labels \n",
    "    x_test: Test set\n",
    "    y_test: Test labels\n",
    "    '''\n",
    "    results = {}\n",
    "    #Training the model \n",
    "    start = time()\n",
    "    learner = model.fit(x_train[:sampleSize],y_train[:sampleSize])\n",
    "    end = time()\n",
    "    results['training_time'] = end - start\n",
    "    \n",
    "    #Predictions \n",
    "    start = time()\n",
    "    predictions_test = learner.predict(x_test)\n",
    "    end = time()\n",
    "    results['testing_time'] = end - start\n",
    "    results['acc_train'] = accuracy_score(y_test,learner.predict(x_test))\n",
    "    results['acc_test'] = accuracy_score(y_test, predictions_test)\n",
    "    results['f_test'] = fbeta_score(y_test, predictions_test, beta=0.5)\n",
    "    print (\"{} trained on {} samples.\".format(model.__class__.__name__, sampleSize))\n",
    "    results['clf_name'] = model.__class__.__name__\n",
    "    return results\n",
    "\n",
    "#Create lists to store selected benchmarking results\n",
    "clf_lscores = []\n",
    "clf_ltrain_times = []\n",
    "clf_lnames = []\n",
    "clf_testAccuracies = []\n",
    "clf_trainAccuracies = []\n",
    "\n",
    "for model in classifiersList:\n",
    "    #Train the various models on the same set of data to compare and choose the best model\n",
    "    clfResults = trainPredict(model,len(Y_train),X_train,Y_train,X_test,Y_test)\n",
    "    clf_lscores.append(clfResults['f_test'])\n",
    "    clf_ltrain_times.append(clfResults['training_time'])\n",
    "    clf_testAccuracies.append(clfResults['acc_test'])\n",
    "    clf_trainAccuracies.append(clfResults['acc_train'])\n",
    "    clf_lnames.append(clfResults['clf_name'].replace('Classifier', ''))\n",
    "print(clf_lscores)\n",
    "print(clf_ltrain_times)\n",
    "print(clf_testAccuracies)\n",
    "print(clf_lnames)"
   ]
  },
  {
   "cell_type": "code",
   "execution_count": 38,
   "metadata": {},
   "outputs": [
    {
     "data": {
      "image/png": "[encoded data removed]",
      "text/plain": [
       "<Figure size 3240x1080 with 2 Axes>"
      ]
     },
     "metadata": {
      "needs_background": "light"
     },
     "output_type": "display_data"
    }
   ],
   "source": [
    "#Plot the results\n",
    "import matplotlib.pyplot as plt\n",
    "plt.figure(1,figsize = (45,15))\n",
    "nGroups = len(clf_lscores)\n",
    "index = np.arange(nGroups)\n",
    "barWidth = 0.35\n",
    "opacity = 0.4\n",
    "data1 = clf_lscores\n",
    "data2 = clf_testAccuracies \n",
    "plt.subplot(2,3,1)\n",
    "plt.xlabel('Classifier')\n",
    "plt.ylabel('F-score Test')\n",
    "plt.title('Classifier F-score')\n",
    "plt.xticks(index, clf_lnames)\n",
    "bar1 = plt.bar(index, data1, barWidth, alpha=opacity, color='k')\n",
    "for rect in bar1:\n",
    "    height = rect.get_height()\n",
    "    plt.text(rect.get_x() + rect.get_width()/2.0, height, '%f' % height, ha='center', va='top',color = 'b')\n",
    "plt.subplot(2,3,4)\n",
    "plt.xlabel('Classifier')\n",
    "plt.ylabel('Test Accuracy')\n",
    "plt.title('Classifier Testing Accuracies')\n",
    "plt.xticks(index, clf_lnames)\n",
    "bar2 = plt.bar(index, data2, barWidth, alpha=opacity, color='g')\n",
    "for rect in bar2:\n",
    "    height = rect.get_height()\n",
    "    plt.text(rect.get_x() + rect.get_width()/2.0, height, '%f' % height, ha='center', va='top',color = 'b')\n",
    "plt.tight_layout()\n",
    "plt.show()"
   ]
  },
  {
   "cell_type": "code",
   "execution_count": null,
   "metadata": {},
   "outputs": [],
   "source": []
  }
 ],
 "metadata": {
  "kernelspec": {
   "display_name": "Python 3",
   "language": "python",
   "name": "python3"
  },
  "language_info": {
   "codemirror_mode": {
    "name": "ipython",
    "version": 3
   },
   "file_extension": ".py",
   "mimetype": "text/x-python",
   "name": "python",
   "nbconvert_exporter": "python",
   "pygments_lexer": "ipython3",
   "version": "3.6.9"
  }
 },
 "nbformat": 4,
 "nbformat_minor": 2
}
